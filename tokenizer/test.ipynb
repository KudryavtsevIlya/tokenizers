{
 "cells": [
  {
   "cell_type": "code",
   "execution_count": 1,
   "metadata": {},
   "outputs": [
    {
     "data": {
      "text/plain": [
       "['The sun rises over the horizon', 'She always enjoys reading good books']"
      ]
     },
     "execution_count": 1,
     "metadata": {},
     "output_type": "execute_result"
    }
   ],
   "source": [
    "with open('../data/sample_texts.txt', 'r') as f:\n",
    "    sample_texts = [line.strip() for line in f.readlines()]\n",
    "\n",
    "\n",
    "sample_texts[:2]"
   ]
  },
  {
   "cell_type": "code",
   "execution_count": 3,
   "metadata": {},
   "outputs": [],
   "source": [
    "from bpe import BPETokenizerGPT"
   ]
  },
  {
   "cell_type": "code",
   "execution_count": 5,
   "metadata": {},
   "outputs": [],
   "source": [
    "tokenizer = BPETokenizerGPT(5)"
   ]
  },
  {
   "cell_type": "code",
   "execution_count": 6,
   "metadata": {},
   "outputs": [],
   "source": [
    "tokenizer.train(sample_texts)"
   ]
  },
  {
   "cell_type": "code",
   "execution_count": 7,
   "metadata": {},
   "outputs": [
    {
     "data": {
      "text/plain": [
       "{'[UNK]': 0,\n",
       " 'd': 1,\n",
       " 'A': 2,\n",
       " 'p': 3,\n",
       " 'q': 4,\n",
       " 'z': 5,\n",
       " 'n': 6,\n",
       " 'a': 7,\n",
       " 'b': 8,\n",
       " 's': 9,\n",
       " 'o': 10,\n",
       " 'S': 11,\n",
       " 'm': 12,\n",
       " 'l': 13,\n",
       " 'c': 14,\n",
       " 'e': 15,\n",
       " \"'\": 16,\n",
       " 'r': 17,\n",
       " 'y': 18,\n",
       " 'h': 19,\n",
       " 'i': 20,\n",
       " 't': 21,\n",
       " 'H': 22,\n",
       " 'g': 23,\n",
       " 'k': 24,\n",
       " '</w>': 25,\n",
       " 'j': 26,\n",
       " 'T': 27,\n",
       " 'x': 28,\n",
       " 'w': 29,\n",
       " 'f': 30,\n",
       " 'u': 31,\n",
       " 'v': 32}"
      ]
     },
     "execution_count": 7,
     "metadata": {},
     "output_type": "execute_result"
    }
   ],
   "source": [
    "tokenizer.get_vocab()"
   ]
  },
  {
   "cell_type": "code",
   "execution_count": 8,
   "metadata": {},
   "outputs": [
    {
     "data": {
      "text/plain": [
       "['A',\n",
       " '</w>',\n",
       " 'c',\n",
       " 'u',\n",
       " 'p',\n",
       " '</w>',\n",
       " 'o',\n",
       " 'f',\n",
       " '</w>',\n",
       " 'c',\n",
       " 'o',\n",
       " 'f',\n",
       " 'f',\n",
       " 'e',\n",
       " 'e',\n",
       " '</w>',\n",
       " 's',\n",
       " 't',\n",
       " 'a',\n",
       " 'r',\n",
       " 't',\n",
       " 's',\n",
       " '</w>',\n",
       " 't',\n",
       " 'h',\n",
       " 'e',\n",
       " '</w>',\n",
       " 'd',\n",
       " 'a',\n",
       " 'y',\n",
       " '</w>']"
      ]
     },
     "execution_count": 8,
     "metadata": {},
     "output_type": "execute_result"
    }
   ],
   "source": [
    "tokenizer.tokenize(sample_texts[2])"
   ]
  },
  {
   "cell_type": "code",
   "execution_count": 9,
   "metadata": {},
   "outputs": [
    {
     "data": {
      "text/plain": [
       "[]"
      ]
     },
     "execution_count": 9,
     "metadata": {},
     "output_type": "execute_result"
    }
   ],
   "source": [
    "tokenizer.merge_history"
   ]
  },
  {
   "cell_type": "code",
   "execution_count": null,
   "metadata": {},
   "outputs": [],
   "source": []
  }
 ],
 "metadata": {
  "kernelspec": {
   "display_name": "venv",
   "language": "python",
   "name": "python3"
  },
  "language_info": {
   "codemirror_mode": {
    "name": "ipython",
    "version": 3
   },
   "file_extension": ".py",
   "mimetype": "text/x-python",
   "name": "python",
   "nbconvert_exporter": "python",
   "pygments_lexer": "ipython3",
   "version": "3.12.5"
  }
 },
 "nbformat": 4,
 "nbformat_minor": 2
}
